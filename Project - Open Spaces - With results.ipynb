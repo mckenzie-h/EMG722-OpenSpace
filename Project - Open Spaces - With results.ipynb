{
 "cells": [
  {
   "cell_type": "code",
   "execution_count": null,
   "id": "undefined-finnish",
   "metadata": {},
   "outputs": [],
   "source": [
    "#Importing required libaries for code to run\n",
    "\n",
    "%matplotlib notebook\n",
    "\n",
    "import geopandas as gpd\n",
    "import pandas as pd\n",
    "import matplotlib.pyplot as plt\n",
    "from cartopy.feature import ShapelyFeature\n",
    "import cartopy.crs as ccrs\n",
    "import cartopy.feature as cf\n",
    "import matplotlib.patches as mpatches\n",
    "import matplotlib.lines as mlines\n",
    "import fiona\n",
    "import os\n",
    "from shapely.geometry import Point, LineString, Polygon\n",
    "\n",
    "\n",
    "plt.ion() # makes the plotting of the map interactive\n",
    "\n",
    "# generate matplotlib handles to create a legend of the features we put in our map.\n",
    "def generate_handles(labels, colors, edge='k', alpha=1):\n",
    "    lc = len(colors)  # get the length of the color list\n",
    "    handles = []\n",
    "    for i in range(len(labels)):\n",
    "        handles.append(mpatches.Rectangle((0, 0), 1, 1, facecolor=colors[i % lc], edgecolor=edge, alpha=alpha))\n",
    "    return handles\n",
    "\n",
    "# create a scale bar of length 20 km in the upper right corner of the map\n",
    "def scale_bar(ax, location=(0.92, 0.95)):\n",
    "    llx0, llx1, lly0, lly1 = ax.get_extent(ccrs.PlateCarree())\n",
    "    sbllx = (llx1 + llx0) / 2\n",
    "    sblly = lly0 + (lly1 - lly0) * location[1]\n",
    "\n",
    "    tmc = ccrs.TransverseMercator(sbllx, sblly)\n",
    "    x0, x1, y0, y1 = ax.get_extent(tmc)\n",
    "    sbx = x0 + (x1 - x0) * location[0]\n",
    "    sby = y0 + (y1 - y0) * location[1]\n",
    "\n",
    "    plt.plot([sbx, sbx - 20000], [sby, sby], color='k', linewidth=9, transform=tmc)\n",
    "    plt.plot([sbx, sbx - 10000], [sby, sby], color='k', linewidth=6, transform=tmc)\n",
    "    plt.plot([sbx-10000, sbx - 20000], [sby, sby], color='w', linewidth=6, transform=tmc)\n",
    "\n",
    "    plt.text(sbx, sby-4500, '20 km', transform=tmc, fontsize=8)\n",
    "    plt.text(sbx-12500, sby-4500, '10 km', transform=tmc, fontsize=8)\n",
    "    plt.text(sbx-24500, sby-4500, '0 km', transform=tmc, fontsize=8)\n",
    "    \n",
    "#Create variable for open spaces dataset and load data\n",
    "\n",
    "openspace_data = gpd.read_file(r'C:\\Users\\angel\\Programming\\Project\\Data\\NS_GreenspaceSite.shp')\n",
    "\n",
    "#Create variable for boundary dataset and load data, this example uses Glasgow as an area of interest\n",
    "\n",
    "boundary_data = gpd.read_file(r'C:\\Users\\angel\\Programming\\Project\\Data\\GlasgowBoundary.shp')\n",
    "\n",
    "#Create variable for roads dataset and load data\n",
    "\n",
    "road_data = gpd.read_file(r'C:\\Users\\angel\\Programming\\Project\\Data\\NS_RoadLink.shp')\n",
    "\n",
    "#Create Variable for glasgow postcode data \n",
    "\n",
    "postcode_g = gpd.read_file (r'C:\\Users\\angel\\Programming\\Project\\Data\\g_postcode_data.shp')\n"
   ]
  },
  {
   "cell_type": "code",
   "execution_count": null,
   "id": "utility-thomson",
   "metadata": {},
   "outputs": [],
   "source": [
    "#display open space dataset table\n",
    "\n",
    "openspace_data"
   ]
  },
  {
   "cell_type": "code",
   "execution_count": null,
   "id": "falling-senator",
   "metadata": {},
   "outputs": [],
   "source": [
    "#Display Boundary dataset table\n",
    "\n",
    "boundary_data"
   ]
  },
  {
   "cell_type": "code",
   "execution_count": null,
   "id": "electric-adventure",
   "metadata": {},
   "outputs": [],
   "source": [
    "#Display road dataset table \n",
    "\n",
    "road_data"
   ]
  },
  {
   "cell_type": "code",
   "execution_count": null,
   "id": "regional-circuit",
   "metadata": {},
   "outputs": [],
   "source": [
    "#display postcode dataset table\n",
    "\n",
    "postcode_g"
   ]
  },
  {
   "cell_type": "code",
   "execution_count": null,
   "id": "immune-stuart",
   "metadata": {},
   "outputs": [],
   "source": [
    "# Check co-ordinate reference systems for openspace layers\n",
    "\n",
    "openspace_data.crs"
   ]
  },
  {
   "cell_type": "code",
   "execution_count": null,
   "id": "broad-excerpt",
   "metadata": {},
   "outputs": [],
   "source": [
    "# Check co-ordinate reference systems for boundary layer\n",
    "\n",
    "boundary_data.crs"
   ]
  },
  {
   "cell_type": "code",
   "execution_count": null,
   "id": "secret-defensive",
   "metadata": {},
   "outputs": [],
   "source": [
    "# Check co-ordinate reference systems for roads layer\n",
    "\n",
    "road_data.crs"
   ]
  },
  {
   "cell_type": "code",
   "execution_count": null,
   "id": "fatal-causing",
   "metadata": {},
   "outputs": [],
   "source": [
    "#check co-ordinate reference systsem for postcode layer \n",
    "\n",
    "postcode_g.crs"
   ]
  },
  {
   "cell_type": "code",
   "execution_count": null,
   "id": "chemical-embassy",
   "metadata": {},
   "outputs": [],
   "source": [
    "#Clip the open space dataset to the extent of the project boundary layer, using geopandas clip function \n",
    "\n",
    "# Clip data\n",
    "openspace_glasgow = gpd.clip(openspace_data, boundary_data)\n",
    "\n",
    "# Ignore missing/empty geometries\n",
    "openspace_glasgow = openspace_glasgow[~openspace_glasgow.is_empty]\n",
    "\n",
    "#Print number of rows in new clipped dataset compared to original dataset. Ensures that clip has worked.\n",
    "print(\"The clipped data has fewer polygons (represented by rows):\",\n",
    "      openspace_glasgow.shape, openspace_data.shape)\n",
    "\n",
    "#export clipped open space dataset into ESRI shapefile into data folder\n",
    "\n",
    "openspace_glasgow.to_file('C:\\\\Users\\\\angel\\\\Programming\\\\Project\\\\Data\\\\openspace_glasgow.shp', driver = 'ESRI Shapefile')\n"
   ]
  },
  {
   "cell_type": "code",
   "execution_count": null,
   "id": "prospective-springer",
   "metadata": {},
   "outputs": [],
   "source": [
    "#Clip the roads dataset to the extent of the project boundary layer, using geopandas clip function \n",
    "\n",
    "# Clip data\n",
    "road_glasgow = gpd.clip(road_data, boundary_data)\n",
    "\n",
    "# Ignore missing/empty geometries\n",
    "road_glasgow = road_glasgow[~road_glasgow.is_empty]\n",
    "\n",
    "#Print number of rows in new clipped dataset compared to original dataset. Ensures that clip has worked.\n",
    "print(\"The clipped data has fewer line sections (represented by rows):\",\n",
    "      road_glasgow.shape, road_data.shape)\n",
    "\n",
    "#export clipped road dataset into ESRI Shapefile into data folder\n",
    "\n",
    "road_glasgow.to_file('C:\\\\Users\\\\angel\\\\Programming\\\\Project\\\\Data\\\\road_glasgow.shp', driver = 'ESRI Shapefile')\n"
   ]
  },
  {
   "cell_type": "code",
   "execution_count": null,
   "id": "charming-share",
   "metadata": {},
   "outputs": [],
   "source": [
    "# identify the number of open space functions in the dataset to identify how many colours are required for symboloisation \n",
    "num_openspace = len(openspace_glasgow.function.unique())\n",
    "print('Number of unique Open Space Types: {}'.format(num_openspace))\n",
    "print(openspace_glasgow['function'].unique())"
   ]
  },
  {
   "cell_type": "code",
   "execution_count": null,
   "id": "existing-tissue",
   "metadata": {},
   "outputs": [],
   "source": [
    "# Identify the number of unique road types in the roads datasetto identify how many colours are required for symboloisation \n",
    "num_road = len(road_glasgow.function.unique())\n",
    "print('Number of unique road classes: {}'.format(num_road)) "
   ]
  },
  {
   "cell_type": "code",
   "execution_count": null,
   "id": "emotional-hearts",
   "metadata": {},
   "outputs": [],
   "source": [
    "myFig = plt.figure(figsize=(10,10))  # create a figure of size 10x10 (representing the page size in inches)\n",
    "\n",
    "myCRS = ccrs.UTM(30)  # create a Universal Transverse Mercator reference system to transform our data.\n",
    "\n",
    "ax = plt.axes(projection=ccrs.Mercator())  # finally, create an axes object in the figure, using a Mercator projection\n"
   ]
  },
  {
   "cell_type": "code",
   "execution_count": null,
   "id": "basic-pontiac",
   "metadata": {},
   "outputs": [],
   "source": [
    "# adding the outline of Glasgow City Boundary using cartopy's ShapelyFeature\n",
    "outline_feature = ShapelyFeature(boundary_data['geometry'], myCRS, edgecolor='yellow', facecolor='w')\n",
    "xmin, ymin, xmax, ymax = boundary_data.total_bounds\n",
    "ax.add_feature(outline_feature) # add the boundary feature to the map\n",
    "\n",
    "# using the boundary of the shapefile features, zoom the map to our area of interest\n",
    "ax.set_extent([xmin, xmax, ymin, ymax], crs=myCRS) \n",
    "\n",
    "#add gridlines to the map, turning off the top and rightside labels \n",
    "gridlines = ax.gridlines(draw_labels=True, color='black', alpha=0.6, linestyle='--')\n",
    "gridlines.right_labels =False # turn off the right side labels\n",
    "gridlines.top_labels =False # turn off the top labels"
   ]
  },
  {
   "cell_type": "code",
   "execution_count": null,
   "id": "impossible-lighting",
   "metadata": {},
   "outputs": [],
   "source": [
    "#add title to map figure\n",
    "plt.title('Glasgow Open Spaces')"
   ]
  },
  {
   "cell_type": "code",
   "execution_count": null,
   "id": "artistic-sleeve",
   "metadata": {},
   "outputs": [],
   "source": [
    "#create colours for the open space types - for this dataset 10 colours need to be identified\n",
    "\n",
    "openspace_colors = ['lightgreen','palevioletred', 'crimson', 'dimgrey', 'lime', 'darkorchid', 'darkorange', 'hotpink', 'indigo', 'aqua'  ]\n",
    "\n",
    "# get a list of unique names for the Open Space type\n",
    "openspace_types = list(openspace_glasgow.function.unique())\n",
    "\n",
    "# sort the open space types alphabetically by name\n",
    "openspace_types.sort() \n",
    "\n",
    "# add the open spaces data to the map\n",
    "\n",
    "for i, openspace in enumerate(openspace_types):\n",
    "    feat = ShapelyFeature(openspace_glasgow['geometry'][openspace_glasgow['function'] == openspace], myCRS, \n",
    "                        edgecolor='black',\n",
    "                        facecolor=openspace_colors[i],\n",
    "                        linewidth=1,\n",
    "                        alpha=0.25)\n",
    "    ax.add_feature(feat)\n"
   ]
  },
  {
   "cell_type": "code",
   "execution_count": null,
   "id": "interior-desire",
   "metadata": {},
   "outputs": [],
   "source": [
    "#add roads layer to map \n",
    "road_colors = ['darkslategrey', 'navy', 'silver', 'darkmagenta', 'sienna', 'darkred', 'darkgoldenrod', 'olive']\n",
    "\n",
    "# get a list of unique road types from the function attribute for the roads dataset\n",
    "road_types = list(road_glasgow.function.unique())\n",
    "\n",
    "# sort the open space types alphabetically by name\n",
    "road_types.sort() \n",
    "\n",
    "# add the road data to the map\n",
    "for i, road in enumerate(road_types):\n",
    "    road_feat = ShapelyFeature(road_glasgow['geometry'][road_glasgow['function'] == road], myCRS, \n",
    "                                edgecolor='black',\n",
    "                                facecolor=road_colors[i],\n",
    "                                linewidth=0.25)\n",
    "    ax.add_feature(road_feat)\n",
    "    \n",
    "myFig # to show the updated figure"
   ]
  },
  {
   "cell_type": "code",
   "execution_count": null,
   "id": "proper-participant",
   "metadata": {},
   "outputs": [],
   "source": [
    "# generate a list of handles for the openspace dataset\n",
    "#openspace_handles = generate_handles(openspace_glasgow.function.unique(), openspace_colors, alpha=0.25)\n",
    "\n",
    "#  generate a list of handles for the road dataset\n",
    "#road_handles = generate_handles(road_glasgow.function.unique(), road_colors, alpha=0.25)\n",
    "\n",
    "# note: if you change the color you use to display rivers, you'll want to change it here, too\n",
    "#boundary_handle = [mpoly.poly2D([], [], edgecolor='yellow', facecolor='w)]\n",
    "\n",
    "# update county_names to take it out of uppercase text\n",
    "#openspace_types = [function.title() for function in openspace_glasgow]\n",
    "                                \n",
    "# update county_names to take it out of uppercase text\n",
    "#road_names = [function.title() for function in road_glasgow]\n",
    "\n",
    "#ax.legend() takes a list of handles and a list of labels corresponding to the objects you want to add to the legend\n",
    "#handles = openspace_handles #+ road_handles\n",
    "                                \n",
    "#labels = openspace_types #+ road_names \n",
    "\n",
    "#leg = ax.legend(handles, labels, title='Legend', title_fontsize=12, \n",
    "               #  fontsize=10, loc='upper right', frameon=True, framealpha=1)\n",
    "\n",
    "#myFig # to show the updated figure"
   ]
  },
  {
   "cell_type": "code",
   "execution_count": null,
   "id": "informative-crowd",
   "metadata": {},
   "outputs": [],
   "source": [
    "# Create a new column within the openspace glasgow called area and populate it with the area in m2 for each \n",
    "# Area / 1000 to get total area in km2\n",
    "openspace_glasgow['area km'] = openspace_glasgow.area/1000"
   ]
  },
  {
   "cell_type": "code",
   "execution_count": null,
   "id": "catholic-harassment",
   "metadata": {},
   "outputs": [],
   "source": [
    "#Display the openspace glasgow table with the added areas column\n",
    "openspace_glasgow"
   ]
  },
  {
   "cell_type": "code",
   "execution_count": null,
   "id": "armed-schema",
   "metadata": {},
   "outputs": [],
   "source": [
    "#run the a groupby with count operation on the glasgow road layer to identify the number of each type of road in the glasgow area\n",
    "openspace_groupcount = openspace_glasgow.groupby('function')['function'].count()\n",
    "\n",
    "#Display the open space group with count by table\n",
    "openspace_groupcount"
   ]
  },
  {
   "cell_type": "code",
   "execution_count": null,
   "id": "subtle-context",
   "metadata": {},
   "outputs": [],
   "source": [
    "#run the a group by operation on the glasgow open space layer to identify the number of each type of open space in the glasgow area\n",
    "openspace_group = openspace_glasgow.groupby('function')\n",
    "\n",
    "#Display the open space group by table\n",
    "openspace_group\n",
    "\n",
    "#Print to show user that group \n",
    "print('Groupby Successful')"
   ]
  },
  {
   "cell_type": "code",
   "execution_count": null,
   "id": "possible-motivation",
   "metadata": {},
   "outputs": [],
   "source": [
    "#for key values in the open space groups create indivadual tables\n",
    "for key, values in openspace_group:\n",
    "    openspace_type = values\n",
    "\n",
    "openspace_type\n",
    "#display a sample table of the openspace table seperated by key values "
   ]
  },
  {
   "cell_type": "code",
   "execution_count": null,
   "id": "bacterial-australia",
   "metadata": {},
   "outputs": [],
   "source": [
    "#Create individual shapefiles for the types of openspace data. \n",
    "#determind output folder location\n",
    "outFolder = r'C:\\Users\\angel\\Programming\\Project\\Data'\n",
    "\n",
    "# Create a new folder called 'results' (if does not exist already) to cretae the folder use os.makedirs() function\n",
    "resultFolder = os.path.join(outFolder, 'results')\n",
    "if not os.path.exists(resultFolder):\n",
    "    os.makedirs(resultFolder)\n",
    "\n",
    "# Iterate over the key values in the open space group to create seperate shapefiles for each\n",
    "for key, values in openspace_group:\n",
    "    # Format the filename (replace spaces with underscores)\n",
    "    outName = \"%s.shp\" % key.replace(\" \", \"_\")\n",
    "\n",
    "    # Print some information for the user\n",
    "    print(\"Processing: %s\" % key)\n",
    "\n",
    "    # Create an output path\n",
    "    outpath = os.path.join(resultFolder, outName)\n",
    "\n",
    "    # Export the data\n",
    "    values.to_file(outpath)\n",
    "    \n",
    "    #print finishing statement to ensure shapefiles have be saved\n",
    "    print('Shapefiles Saved') \n",
    "    "
   ]
  },
  {
   "cell_type": "code",
   "execution_count": null,
   "id": "southern-ultimate",
   "metadata": {},
   "outputs": [],
   "source": [
    "#display the length of each road section in the road dataset\n",
    "road_glasgow.length"
   ]
  },
  {
   "cell_type": "code",
   "execution_count": null,
   "id": "american-polls",
   "metadata": {},
   "outputs": [],
   "source": [
    "# Create a new column within the road_glasgow called length and populate it with the length in meters for each \n",
    "road_glasgow['length - m'] = road_glasgow.length"
   ]
  },
  {
   "cell_type": "code",
   "execution_count": null,
   "id": "biological-establishment",
   "metadata": {},
   "outputs": [],
   "source": [
    "#display the updated road glasgow with the length field included in the table \n",
    "road_glasgow"
   ]
  },
  {
   "cell_type": "code",
   "execution_count": null,
   "id": "viral-tobago",
   "metadata": {},
   "outputs": [],
   "source": [
    "#run the a group by operation on the glasgow open space layer to identify the number of each type of open space in the glasgow area\n",
    "road_groupcount = road_glasgow.groupby('function')['function'].count()\n",
    "\n",
    "#Display the open space group with count by table\n",
    "road_groupcount"
   ]
  },
  {
   "cell_type": "code",
   "execution_count": null,
   "id": "animated-clone",
   "metadata": {},
   "outputs": [],
   "source": [
    "#run the a group by operation on the glasgow road layer to identify the number of each type of open space in the glasgow area\n",
    "road_group = road_glasgow.groupby('function')\n",
    "\n",
    "#Display the open space group by table\n",
    "road_group\n",
    "print('Groupby Successful')"
   ]
  },
  {
   "cell_type": "code",
   "execution_count": null,
   "id": "written-parish",
   "metadata": {},
   "outputs": [],
   "source": [
    "#Create individual shapefiles for the types of road data. \n",
    "#determind output folder location\n",
    "outFolder = r'C:\\Users\\angel\\Programming\\Project\\Data'\n",
    "\n",
    "# Create a new folder called 'Results' (if does not exist) to that folder using os.makedirs() function\n",
    "resultFolder = os.path.join(outFolder, 'results')\n",
    "if not os.path.exists(resultFolder):\n",
    "    os.makedirs(resultFolder)\n",
    "\n",
    "# Iterate over the\n",
    "for key, values in road_group:\n",
    "    # Format the filename (replace spaces with underscores)\n",
    "    outName = \"%s.shp\" % key.replace(\" \", \"_\")\n",
    "\n",
    "    # Print some information for the user\n",
    "    print(\"Processing: %s\" % key)\n",
    "\n",
    "    # Create an output path\n",
    "    outpath = os.path.join(resultFolder, outName)\n",
    "\n",
    "    # Export the data\n",
    "    values.to_file(outpath)\n",
    "    \n",
    "    #print finishing statement to ensure shapefiles have be saved\n",
    "    print('Shapefiles Saved')"
   ]
  },
  {
   "cell_type": "code",
   "execution_count": null,
   "id": "signal-video",
   "metadata": {},
   "outputs": [],
   "source": [
    "#Call in the new shapefiles which are going to be use in the interegation intergation\n",
    "\n",
    "#public spaces\n",
    "openspace_public = gpd.read_file(r'C:\\Users\\angel\\Programming\\Project\\Data\\results\\Public_Park_Or_Garden.shp')\n",
    "\n",
    "#playing field\n",
    "openspace_field = gpd.read_file(r'C:\\Users\\angel\\Programming\\Project\\Data\\results\\Playing_Field.shp')\n",
    "\n",
    "#play space\n",
    "openspace_play = gpd.read_file(r'C:\\Users\\angel\\Programming\\Project\\Data\\results\\Play_Space.shp')\n"
   ]
  },
  {
   "cell_type": "code",
   "execution_count": null,
   "id": "pregnant-creek",
   "metadata": {},
   "outputs": [],
   "source": [
    "#buffer open space polygons\n",
    "\n",
    "#create 100m buffer around the public open spaces\n",
    "openpublic_100 = openspace_public.buffer(100)\n",
    "\n",
    "#create 100m buffer around playing fields\n",
    "openfield_100 = openspace_field.buffer(100)\n",
    "\n",
    "#create 100m buffer aroung play spaces \n",
    "openplay_100 = openspace_play.buffer(100)\n",
    "\n",
    "#save 100m buffer of open space public to file\n",
    "openpublic_100.to_file('C:\\\\Users\\\\angel\\\\Programming\\\\Project\\\\Data\\\\openpublic_100m_buffer.shp', driver = 'ESRI Shapefile')\n",
    "\n",
    "#save 100m buffer of open space public to file\n",
    "openfield_100.to_file('C:\\\\Users\\\\angel\\\\Programming\\\\Project\\\\Data\\\\openfield_100m_buffer.shp', driver = 'ESRI Shapefile')\n",
    "\n",
    "#save 100m buffer of open space public to file\n",
    "openplay_100.to_file('C:\\\\Users\\\\angel\\\\Programming\\\\Project\\\\Data\\\\openplay_100m_buffer.shp', driver = 'ESRI Shapefile')\n",
    "\n",
    "#print statement to ensure save has worked \n",
    "print ('Save Complete')"
   ]
  },
  {
   "cell_type": "code",
   "execution_count": null,
   "id": "comparative-seating",
   "metadata": {},
   "outputs": [],
   "source": [
    "# clip g_postcode_data to glasgow city council boundary\n",
    "# Clip data\n",
    "postcode_glasgow = gpd.clip(postcode_g, boundary_data)\n",
    "\n",
    "# Ignore missing/empty geometries\n",
    "postcode_glasgow = postcode_glasgow[~postcode_glasgow.is_empty]\n",
    "\n",
    "#save glasgow postcode data to file\n",
    "postcode_glasgow.to_file('C:\\\\Users\\\\angel\\\\Programming\\\\Project\\\\Data\\\\postcode_glasgow.shp', driver = 'ESRI Shapefile')"
   ]
  },
  {
   "cell_type": "code",
   "execution_count": null,
   "id": "adjacent-adventure",
   "metadata": {},
   "outputs": [],
   "source": [
    "#clip postcode data to those inside the 100m buffer of the open space\n",
    "\n",
    "# Clip data\n",
    "postcode_openspace100 = gpd.clip(postcode_glasgow, openspace_100)\n",
    "\n",
    "# Ignore missing/empty geometries\n",
    "postcode_openspace100 = postcode_openspace100[~postcode_openspace100.is_empty]\n",
    "\n",
    "#save glasgow postcode data to file\n",
    "postcode_glasgow100.to_file('C:\\\\Users\\\\angel\\\\Programming\\\\Project\\\\Data\\\\postcode_glasgow.shp', driver = 'ESRI Shapefile')"
   ]
  }
 ],
 "metadata": {
  "kernelspec": {
   "display_name": "Python 3",
   "language": "python",
   "name": "python3"
  },
  "language_info": {
   "codemirror_mode": {
    "name": "ipython",
    "version": 3
   },
   "file_extension": ".py",
   "mimetype": "text/x-python",
   "name": "python",
   "nbconvert_exporter": "python",
   "pygments_lexer": "ipython3",
   "version": "3.8.8"
  }
 },
 "nbformat": 4,
 "nbformat_minor": 5
}
